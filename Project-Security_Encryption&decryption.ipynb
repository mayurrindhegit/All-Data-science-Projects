{
 "cells": [
  {
   "cell_type": "markdown",
   "metadata": {},
   "source": [
    "# Encrption"
   ]
  },
  {
   "cell_type": "code",
   "execution_count": 2,
   "metadata": {},
   "outputs": [
    {
     "name": "stdout",
     "output_type": "stream",
     "text": [
      "enter the message: ab\n",
      "encrypted new msg is e\n",
      "encrypted new msg is f\n",
      "the encrypted final msg is ef\n"
     ]
    }
   ],
   "source": [
    "alphabet=\"abcdefghijklmnopqrstuvwxyz\"\n",
    "key=4\n",
    "newmsg=''\n",
    "message= input('enter the message: ')\n",
    "for character in message:\n",
    "    position=alphabet.find(character)\n",
    "    newposition=(position+key)%26\n",
    "    newchar=alphabet[newposition]\n",
    "    print(\"encrypted new msg is\",newchar)\n",
    "    newmsg+=newchar\n",
    "print('the encrypted final msg is',newmsg)"
   ]
  },
  {
   "cell_type": "markdown",
   "metadata": {},
   "source": [
    "# Decryption"
   ]
  },
  {
   "cell_type": "code",
   "execution_count": 3,
   "metadata": {},
   "outputs": [
    {
     "name": "stdout",
     "output_type": "stream",
     "text": [
      "enter the message: ef\n",
      "encrypted new msg is a\n",
      "encrypted new msg is b\n",
      "the encrypted final msg is ab\n"
     ]
    }
   ],
   "source": [
    "alphabet=\"abcdefghijklmnopqrstuvwxyz\"\n",
    "key=4\n",
    "newmsg=''\n",
    "message= input('enter the message: ')\n",
    "for character in message:\n",
    "    position=alphabet.find(character)\n",
    "    newposition=(position-key)%26\n",
    "    newchar=alphabet[newposition]\n",
    "    print(\"encrypted new msg is\",newchar)\n",
    "    newmsg+=newchar\n",
    "print('the encrypted final msg is',newmsg)"
   ]
  },
  {
   "cell_type": "code",
   "execution_count": null,
   "metadata": {},
   "outputs": [],
   "source": []
  }
 ],
 "metadata": {
  "kernelspec": {
   "display_name": "Python 3",
   "language": "python",
   "name": "python3"
  },
  "language_info": {
   "codemirror_mode": {
    "name": "ipython",
    "version": 3
   },
   "file_extension": ".py",
   "mimetype": "text/x-python",
   "name": "python",
   "nbconvert_exporter": "python",
   "pygments_lexer": "ipython3",
   "version": "3.7.5"
  }
 },
 "nbformat": 4,
 "nbformat_minor": 2
}
